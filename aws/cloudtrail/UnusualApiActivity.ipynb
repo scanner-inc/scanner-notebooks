{
 "cells": [
  {
   "cell_type": "markdown",
   "metadata": {},
   "source": [
    "# Analyze Unusual API Activity\n",
    "\n",
    "There are various signals that indicate unusual API activity in AWS CloudTrail logs.\n",
    "\n",
    "One kind of unusual activity is a high rate of failed requests.\n",
    "\n",
    "Sometimes these failures can be caused by threat actors who are attempting to perform actions that are prohibited. A large number of failed requests from a given user may indicate threat behavior, eg. an enumeration attack."
   ]
  },
  {
   "cell_type": "markdown",
   "metadata": {},
   "source": [
    "Install libraries. May take up to 30 seconds on first run."
   ]
  },
  {
   "cell_type": "code",
   "execution_count": null,
   "metadata": {},
   "outputs": [],
   "source": [
    "%pip install seaborn matplotlib"
   ]
  },
  {
   "cell_type": "code",
   "execution_count": null,
   "metadata": {},
   "outputs": [],
   "source": [
    "%pip install https://scanner-dev-public.s3.us-west-2.amazonaws.com/sdks/python/scanner_client-0.0.1-py3-none-any.whl"
   ]
  },
  {
   "cell_type": "markdown",
   "metadata": {},
   "source": [
    "Import library dependencies. May take up to 15 seconds on first run."
   ]
  },
  {
   "cell_type": "code",
   "execution_count": null,
   "metadata": {},
   "outputs": [],
   "source": [
    "from scanner_client import Scanner\n",
    "import seaborn as sns\n",
    "from matplotlib import pyplot as plt\n",
    "from datetime import datetime, timezone, timedelta\n",
    "import pandas as pd\n",
    "import os"
   ]
  },
  {
   "cell_type": "markdown",
   "metadata": {},
   "source": [
    "Change display config for plot and table libraries"
   ]
  },
  {
   "cell_type": "code",
   "execution_count": null,
   "metadata": {},
   "outputs": [],
   "source": [
    "plt.style.use(\"dark_background\")\n",
    "sns.set_style(\"darkgrid\")\n",
    "pd.set_option('max_colwidth', None)"
   ]
  },
  {
   "cell_type": "code",
   "execution_count": null,
   "metadata": {},
   "outputs": [],
   "source": [
    "def convert_results_to_data_frame(results):\n",
    "    rows = [row.columns.to_dict() for row in results.rows]\n",
    "    column_tags = results.column_tags.to_dict()\n",
    "    if len(column_tags) > 0:\n",
    "        # If this is a table, use the column ordering in the data frame\n",
    "        return pd.DataFrame(data=rows, columns=results.column_ordering)\n",
    "    else:\n",
    "        # Otherwise, this is a list of log events, so use pandas JSON\n",
    "        # normalization to set the table columns to the union of all keys.\n",
    "        return pd.json_normalize(rows)"
   ]
  },
  {
   "cell_type": "markdown",
   "metadata": {},
   "source": [
    "Initialize Scanner API client:"
   ]
  },
  {
   "cell_type": "code",
   "execution_count": null,
   "metadata": {},
   "outputs": [],
   "source": [
    "scanner = Scanner(\n",
    "    api_url=os.environ[\"SCANNER_API_URL\"],\n",
    "    api_key=os.environ[\"SCANNER_API_KEY\"],\n",
    ")"
   ]
  },
  {
   "cell_type": "markdown",
   "metadata": {},
   "source": [
    "Set analyzed time range to be the last 7 days."
   ]
  },
  {
   "cell_type": "code",
   "execution_count": null,
   "metadata": {},
   "outputs": [],
   "source": [
    "end_time = datetime.now(tz=timezone.utc)\n",
    "start_time = end_time - timedelta(days=7)"
   ]
  },
  {
   "cell_type": "markdown",
   "metadata": {},
   "source": [
    "Run a Scanner query to look for AWS CloudTrail events showing failed API calls."
   ]
  },
  {
   "cell_type": "code",
   "execution_count": null,
   "metadata": {},
   "outputs": [],
   "source": [
    "response = scanner.query.blocking_query(\n",
    "    start_time=start_time.isoformat(),\n",
    "    end_time=end_time.isoformat(),\n",
    "    query_text=\"\"\"\n",
    "        %ingest.source_type: 'aws:cloudtrail'\n",
    "        errorCode: *\n",
    "        | stats \n",
    "          min(eventTime) as firstTime,\n",
    "          max(eventTime) as lastTime\n",
    "          by \n",
    "          eventSource,\n",
    "          eventName,\n",
    "          errorCode,\n",
    "          userIdentity.accountId,\n",
    "          userIdentity.arn\n",
    "    \"\"\",\n",
    ")"
   ]
  },
  {
   "cell_type": "markdown",
   "metadata": {},
   "source": [
    "Convert search results to a `pandas` data frame, and preview the top rows:"
   ]
  },
  {
   "cell_type": "code",
   "execution_count": null,
   "metadata": {},
   "outputs": [],
   "source": [
    "error_events_df = convert_results_to_data_frame(response.results)\n",
    "error_events_df.head()"
   ]
  },
  {
   "cell_type": "markdown",
   "metadata": {},
   "source": [
    "Compute a new column called `userIdentityName` which is simply the second part of the ARN path, i.e. the user name. Helps us simplify the grouping."
   ]
  },
  {
   "cell_type": "code",
   "execution_count": null,
   "metadata": {},
   "outputs": [],
   "source": [
    "error_events_df['userIdentityName'] = error_events_df[\"userIdentity.arn\"]\\\n",
    "    .str.split(\"/\")\\\n",
    "    .str[1]"
   ]
  },
  {
   "cell_type": "markdown",
   "metadata": {},
   "source": [
    "Group results by the event source, name, error code, and the name of the user who made the errors. Sum the total count, sort descending."
   ]
  },
  {
   "cell_type": "code",
   "execution_count": null,
   "metadata": {},
   "outputs": [],
   "source": [
    "top_errors_by_user_identity_name_df = error_events_df.groupby([\"eventSource\", \"eventName\", \"errorCode\", \"userIdentityName\"])[\"@q.count\"]\\\n",
    "    .sum()\\\n",
    "    .sort_values(ascending=False)\\\n",
    "    .reset_index()\n",
    "top_errors_by_user_identity_name_df.head()"
   ]
  },
  {
   "cell_type": "markdown",
   "metadata": {},
   "source": [
    "Compute a new column to serve as the label in a chart."
   ]
  },
  {
   "cell_type": "code",
   "execution_count": null,
   "metadata": {},
   "outputs": [],
   "source": [
    "top_errors_by_user_identity_name_df[\"userErrorLabel\"] = top_errors_by_user_identity_name_df[\"userIdentityName\"] + \" - \"\\\n",
    "  + top_errors_by_user_identity_name_df[\"errorCode\"] + \" - \"\\\n",
    "  + top_errors_by_user_identity_name_df[\"eventSource\"] + \"/\"\\\n",
    "  + top_errors_by_user_identity_name_df[\"eventName\"]\n",
    "  \n",
    "group_by_label_df = top_errors_by_user_identity_name_df.groupby(\"userErrorLabel\")[\"@q.count\"]\\\n",
    "    .sum()\\\n",
    "    .sort_values(ascending=False)\\\n",
    "    .reset_index()"
   ]
  },
  {
   "cell_type": "markdown",
   "metadata": {},
   "source": [
    "Render the top failed API calls in a chart.\n",
    "\n",
    "A large number of errors for a given user and API call type may indicate attempts at enumeration attacks."
   ]
  },
  {
   "cell_type": "code",
   "execution_count": null,
   "metadata": {},
   "outputs": [],
   "source": [
    "plt.figure(figsize=(12, 8))\n",
    "sns.barplot(data=group_by_label_df[:10], y='userErrorLabel', x='@q.count')\n",
    "plt.title('Top 10 Failed API Calls')\n",
    "plt.xlabel('Frequency')\n",
    "plt.ylabel('API Call Type')\n",
    "plt.show()"
   ]
  },
  {
   "cell_type": "markdown",
   "metadata": {},
   "source": [
    "# View Activity for User With Highest Failures\n",
    "\n",
    "Given the user who has made the top most failed requests, query for any CloudTrail requests containing their user name, and visualize these requests."
   ]
  },
  {
   "cell_type": "code",
   "execution_count": null,
   "metadata": {},
   "outputs": [],
   "source": [
    "user_identity_name = top_errors_by_user_identity_name_df.iloc[0]['userIdentityName']"
   ]
  },
  {
   "cell_type": "code",
   "execution_count": null,
   "metadata": {},
   "outputs": [],
   "source": [
    "response = scanner.query.blocking_query(\n",
    "    start_time=start_time.isoformat(),\n",
    "    end_time=end_time.isoformat(),\n",
    "    query_text=f\"\"\"\n",
    "        %ingest.source_type: \"aws:cloudtrail\"\n",
    "        \"{user_identity_name}\"\n",
    "        | rename\n",
    "          userIdentity.sessionContext.sessionIssuer.arn as userArn\n",
    "        | stats\n",
    "          min(eventTime) as firstTime,\n",
    "          max(eventTime) as lastTime\n",
    "          by\n",
    "          userArn,\n",
    "          eventSource,\n",
    "          eventName,\n",
    "          errorCode\n",
    "    \"\"\",\n",
    ")"
   ]
  },
  {
   "cell_type": "code",
   "execution_count": null,
   "metadata": {},
   "outputs": [],
   "source": [
    "api_calls_for_user_df = convert_results_to_data_frame(response.results)"
   ]
  },
  {
   "cell_type": "code",
   "execution_count": null,
   "metadata": {},
   "outputs": [],
   "source": [
    "api_calls_for_user_df['apiCallLabel'] = api_calls_for_user_df['userArn'] + ' - '\\\n",
    "  + api_calls_for_user_df['eventSource'] + '/'\\\n",
    "  + api_calls_for_user_df['eventName']\n",
    "\n",
    "successful_api_calls_df = api_calls_for_user_df[api_calls_for_user_df[\"errorCode\"].isna()]\n",
    "failed_api_calls_df = api_calls_for_user_df[api_calls_for_user_df[\"errorCode\"].notna()]"
   ]
  },
  {
   "cell_type": "markdown",
   "metadata": {},
   "source": [
    "Render a chart of the top successful API calls for the user."
   ]
  },
  {
   "cell_type": "code",
   "execution_count": null,
   "metadata": {},
   "outputs": [],
   "source": [
    "group_by_label_df = successful_api_calls_df.groupby(\"apiCallLabel\")[\"@q.count\"]\\\n",
    "    .sum()\\\n",
    "    .sort_values(ascending=False)\\\n",
    "    .reset_index()\n",
    "\n",
    "plt.figure(figsize=(12, 8))\n",
    "sns.barplot(data=group_by_label_df[:10], y='apiCallLabel', x='@q.count')\n",
    "plt.title(f\"Top 10 Successful API Calls for {user_identity_name}\")\n",
    "plt.xlabel('Frequency')\n",
    "plt.ylabel('API Call Type')\n",
    "plt.show()"
   ]
  },
  {
   "cell_type": "markdown",
   "metadata": {},
   "source": [
    "Render a chart of the top failed API calls for the user."
   ]
  },
  {
   "cell_type": "code",
   "execution_count": null,
   "metadata": {},
   "outputs": [],
   "source": [
    "group_by_label_df = failed_api_calls_df.groupby(\"apiCallLabel\")[\"@q.count\"]\\\n",
    "    .sum()\\\n",
    "    .sort_values(ascending=False)\\\n",
    "    .reset_index()\n",
    "\n",
    "plt.figure(figsize=(12, 8))\n",
    "sns.barplot(data=group_by_label_df[:10], y='apiCallLabel', x='@q.count', color='lightcoral')\n",
    "plt.title(f\"Top 10 Failed API Calls for {user_identity_name}\")\n",
    "plt.xlabel('Frequency')\n",
    "plt.ylabel('API Call Type')\n",
    "plt.show()"
   ]
  },
  {
   "cell_type": "markdown",
   "metadata": {},
   "source": [
    "## Check for sensitive activity from this user\n",
    "\n",
    "See if this user succeeded at executive any API calls that match a list of sensitive API calls:\n",
    "- `CreateUser`: Creates a new IAM user.\n",
    "- `DeleteUser`: Deletes an IAM user.\n",
    "- `CreateAccessKey`: Creates a new access key for an IAM user.\n",
    "- `DeleteAccessKey`: Deletes an access key associated with an IAM user.\n",
    "- `PutUserPolicy`: Attaches an inline policy to an IAM user.\n",
    "- `DeleteUserPolicy`: Deletes an inline policy from an IAM user.\n",
    "- `CreateRole`: Creates a new IAM role.\n",
    "- `DeleteRole`: Deletes an IAM role.\n",
    "- `AttachRolePolicy`: Attaches a managed policy to an IAM role.\n",
    "- `DetachRolePolicy`: Detaches a managed policy from an IAM role.\n",
    "- `PutRolePolicy`: Adds or updates an inline policy for an IAM role.\n",
    "- `DeleteRolePolicy`: Deletes an inline policy attached to an IAM role.\n",
    "- `UpdateAssumeRolePolicy`: Updates the policy that grants an entity permission to assume a role.\n",
    "- `CreatePolicy`: Creates a new IAM policy.\n",
    "- `DeletePolicy`: Deletes an IAM policy.\n",
    "- `PutBucketPolicy`: Attaches a policy to an S3 bucket.\n",
    "- `DeleteBucketPolicy`: Deletes the policy from an S3 bucket.\n",
    "- `AuthorizeSecurityGroupIngress`: Adds one or more ingress rules to a security group.\n",
    "- `RevokeSecurityGroupIngress`: Removes one or more ingress rules from a security guarded group.\n",
    "- `UpdateAccountPasswordPolicy`: The account password policy is updated. This policy defines the password requirements for IAM users within the account, such as minimum length, required characters, and password expiration.\n",
    "- `DeleteAccountPasswordPolicy`: The account password policy is deleted."
   ]
  },
  {
   "cell_type": "code",
   "execution_count": null,
   "metadata": {},
   "outputs": [],
   "source": [
    "sensitive_event_names = [\n",
    "  \"CreateUser\", \"DeleteUser\", \"CreateAccessKey\", \"DeleteAccessKey\",\n",
    "  \"PutUserPolicy\", \"DeleteUserPolicy\", \"CreateRole\",\n",
    "  \"DeleteRole\", \"AttachRolePolicy\", \"DetachRolePolicy\", \"PutRolePolicy\",\n",
    "  \"DeleteRolePolicy\", \"UpdateAssumeRolePolicy\", \"CreatePolicy\", \"DeletePolicy\",\n",
    "  \"PutBucketPolicy\", \"DeleteBucketPolicy\", \"AuthorizeSecurityGroupIngress\",\n",
    "  \"RevokeSecurityGroupIngress\", \"UpdateAccountPasswordPolicy\", \n",
    "  \"DeleteAccountPasswordPolicy\",\n",
    "]\n",
    "\n",
    "successful_sensitive_df = successful_api_calls_df[successful_api_calls_df['eventName'].isin(sensitive_event_names)]\n",
    "successful_sensitive_df"
   ]
  },
  {
   "cell_type": "markdown",
   "metadata": {},
   "source": [
    "Render a chart of successful API calls that are potentially sensitive, if any exist."
   ]
  },
  {
   "cell_type": "code",
   "execution_count": null,
   "metadata": {},
   "outputs": [],
   "source": [
    "group_by_label_df = successful_sensitive_df.groupby(\"apiCallLabel\")[\"@q.count\"]\\\n",
    "    .sum()\\\n",
    "    .sort_values(ascending=False)\\\n",
    "    .reset_index()\n",
    "\n",
    "if group_by_label_df.shape[0] > 0:\n",
    "    plt.figure(figsize=(12, 8))\n",
    "    sns.barplot(data=group_by_label_df[:10], y='apiCallLabel', x='@q.count')\n",
    "    plt.title(f\"Top 10 Successful Sensitive API Calls for {user_identity_name}\")\n",
    "    plt.xlabel('Frequency')\n",
    "    plt.ylabel('API Call Type')\n",
    "    plt.show()"
   ]
  }
 ],
 "metadata": {
  "kernelspec": {
   "display_name": "Python 3 (ipykernel)",
   "language": "python",
   "name": "python3"
  },
  "language_info": {
   "codemirror_mode": {
    "name": "ipython",
    "version": 3
   },
   "file_extension": ".py",
   "mimetype": "text/x-python",
   "name": "python",
   "nbconvert_exporter": "python",
   "pygments_lexer": "ipython3",
   "version": "3.12.2"
  }
 },
 "nbformat": 4,
 "nbformat_minor": 4
}
