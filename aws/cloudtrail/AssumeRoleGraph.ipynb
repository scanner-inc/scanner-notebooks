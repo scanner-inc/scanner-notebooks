{
 "cells": [
  {
   "cell_type": "markdown",
   "id": "2f3e67c2-8f8f-4db2-98b5-c0c532efba72",
   "metadata": {},
   "source": [
    "# Visualize `AssumeRole` Graphs\n",
    "\n",
    "In AWS, actors can assume roles, which can themselves assume roles, and so on. This can sometimes be a vector for lateral movement or privilege escalation. Here, we visualize `AssumeRole` chains to help us look for potential threat activity."
   ]
  },
  {
   "cell_type": "markdown",
   "id": "bf66bbcc-9cd3-4f4d-bdf9-e2fe6bb54889",
   "metadata": {},
   "source": [
    "Install libraries."
   ]
  },
  {
   "cell_type": "code",
   "execution_count": null,
   "id": "9736180c-e0cd-4a98-a065-e9c309633a8c",
   "metadata": {},
   "outputs": [],
   "source": [
    "%pip install https://scanner-dev-public.s3.us-west-2.amazonaws.com/sdks/python/scanner_client-0.0.1-py3-none-any.whl"
   ]
  },
  {
   "cell_type": "code",
   "execution_count": null,
   "id": "fe27b7dd-531a-41cd-8b24-9e1501d022c6",
   "metadata": {},
   "outputs": [],
   "source": [
    "%pip install yfiles_jupyter_graphs pandas"
   ]
  },
  {
   "cell_type": "code",
   "execution_count": null,
   "id": "afd6b62b-703d-4719-99e9-fac8dbb4e08b",
   "metadata": {},
   "outputs": [],
   "source": [
    "import os\n",
    "import pandas as pd\n",
    "from scanner_client import Scanner\n",
    "from yfiles_jupyter_graphs import GraphWidget\n",
    "from datetime import datetime, timezone, timedelta"
   ]
  },
  {
   "cell_type": "markdown",
   "id": "7c1f5a2d-b12f-46b2-8a9c-4829edac79bf",
   "metadata": {},
   "source": [
    "Add utility function to convert Scanner search results to a `pandas` data frame."
   ]
  },
  {
   "cell_type": "code",
   "execution_count": null,
   "id": "5c0d0983-5dc4-475f-b9b2-1aaa287e1634",
   "metadata": {},
   "outputs": [],
   "source": [
    "def convert_results_to_data_frame(results):\n",
    "    rows = [row.columns.to_dict() for row in results.rows]\n",
    "    column_tags = results.column_tags.to_dict()\n",
    "    if len(column_tags) > 0:\n",
    "        # If this is a table, use the column ordering in the data frame\n",
    "        return pd.DataFrame(data=rows, columns=results.column_ordering)\n",
    "    else:\n",
    "        # Otherwise, this is a list of log events, so use pandas JSON\n",
    "        # normalization to set the table columns to the union of all keys.\n",
    "        return pd.json_normalize(rows)\n"
   ]
  },
  {
   "cell_type": "markdown",
   "id": "222d11f3-27bb-43d7-96d1-903d312f723e",
   "metadata": {},
   "source": [
    "Initialize Scanner API client:"
   ]
  },
  {
   "cell_type": "code",
   "execution_count": null,
   "id": "5ea88a97-5695-4227-9ba0-6e2a8a82a0d7",
   "metadata": {},
   "outputs": [],
   "source": [
    "scanner = Scanner(\n",
    "    api_url=os.environ[\"SCANNER_API_URL\"],\n",
    "    api_key=os.environ[\"SCANNER_API_KEY\"],\n",
    ")"
   ]
  },
  {
   "cell_type": "markdown",
   "id": "38263962-c379-430c-b9bf-b937f580e7bb",
   "metadata": {},
   "source": [
    "Set analyzed time range to be the last 7 days."
   ]
  },
  {
   "cell_type": "code",
   "execution_count": null,
   "id": "b38b40b3-a4c7-4414-8d18-b582110b22cd",
   "metadata": {},
   "outputs": [],
   "source": [
    "end_time = datetime.now(tz=timezone.utc)\n",
    "start_time = end_time - timedelta(days=7)"
   ]
  },
  {
   "cell_type": "markdown",
   "id": "ba347a47-c425-41c4-803c-936af4ff589f",
   "metadata": {},
   "source": [
    "Query for all `AssumeRole` calls that have a target role ARN and were not made by AWS Service or Account."
   ]
  },
  {
   "cell_type": "code",
   "execution_count": null,
   "id": "1076ab24-c713-487d-8565-a4cd6180ff77",
   "metadata": {},
   "outputs": [],
   "source": [
    "response = scanner.query.blocking_query(\n",
    "    start_time=start_time.isoformat(),\n",
    "    end_time=end_time.isoformat(),\n",
    "    query_text=\"\"\"\n",
    "        %ingest.source_type: \"aws:cloudtrail\"\n",
    "        eventName: \"AssumeRole\"\n",
    "        requestParameters.roleArn: *\n",
    "        (not userIdentity.type: (\"AWSService\" or \"AWSAccount\"))\n",
    "        | rename \n",
    "          userIdentity.sessionContext.sessionIssuer.arn as sourceArn,\n",
    "          requestParameters.roleArn as targetArn\n",
    "        | stats\n",
    "          min(eventTime) as firstTime,\n",
    "          max(eventTime) as lastTime\n",
    "          by\n",
    "          sourceArn,\n",
    "          targetArn\n",
    "    \"\"\"\n",
    ")\n",
    "len(response.results.rows)"
   ]
  },
  {
   "cell_type": "code",
   "execution_count": null,
   "id": "9e1ae5d7-7166-4eda-9849-ad78b81b8abc",
   "metadata": {},
   "outputs": [],
   "source": [
    "assume_role_df = convert_results_to_data_frame(response.results)"
   ]
  },
  {
   "cell_type": "code",
   "execution_count": null,
   "id": "07970c6b-7774-4c49-861f-55b5d7ed67d9",
   "metadata": {},
   "outputs": [],
   "source": [
    "assume_role_df.head()"
   ]
  },
  {
   "cell_type": "markdown",
   "id": "1109f62a-50dc-4bba-ab38-76c160fab96b",
   "metadata": {},
   "source": [
    "Compute nodes and edges of `AssumeRole` operations."
   ]
  },
  {
   "cell_type": "code",
   "execution_count": null,
   "id": "5c0f36c7-b757-422a-8f07-c4f81edbc6b8",
   "metadata": {},
   "outputs": [],
   "source": [
    "node_ids = set(assume_role_df['targetArn'].unique()).union(set(assume_role_df['sourceArn'].unique()))\n",
    "nodes = []\n",
    "for node_id in node_ids:\n",
    "    if not node_id:\n",
    "        continue\n",
    "    parts = node_id.split('/')\n",
    "    account_id = parts[0].split(':')[4]\n",
    "    user_name = parts[1]\n",
    "    nodes.append({\n",
    "        'id': node_id,\n",
    "        'properties': {\n",
    "            'arn': node_id,\n",
    "            'user_name': user_name,\n",
    "            'account_id': account_id,\n",
    "            'label': f\"{user_name} ({account_id})\",\n",
    "        },\n",
    "    })\n",
    "\n",
    "edges = []\n",
    "for i, row in enumerate(assume_role_df.to_dict(orient=\"records\")):\n",
    "    if not row['sourceArn'] or not row['targetArn']:\n",
    "        next\n",
    "    count = row.get('@q.count', 0)\n",
    "    edges.append({\n",
    "        'id': i,\n",
    "        'start': row['sourceArn'],\n",
    "        'end': row['targetArn'],\n",
    "        'properties': {\n",
    "            'source_arn': row['sourceArn'],\n",
    "            'target_arn': row['targetArn'],\n",
    "            'label': str(count),\n",
    "            'count': count,\n",
    "        }\n",
    "    })\n"
   ]
  },
  {
   "cell_type": "markdown",
   "id": "83b081a3-4dda-4d14-b10c-5cdeb41673c0",
   "metadata": {},
   "source": [
    "Generate interactive graph visualization of `AssumeRole` chains.\n",
    "- Click and drag to navigate. Use mouse wheel to zoom in/out.\n",
    "- Click on a node or an edge to select it and see what it is connected to.\n",
    "- When a node or edge is selected, inspect its properties in the `Data` tab in the side bar.\n",
    "- Search for a node or edge via the `Search` tab in the side bar.\n",
    "- Change the layout of the graph to examine relationships in different ways."
   ]
  },
  {
   "cell_type": "code",
   "execution_count": null,
   "id": "7374a7e2-e091-4677-b899-0aa333cd754b",
   "metadata": {},
   "outputs": [],
   "source": [
    "w = GraphWidget()\n",
    "w.nodes = nodes\n",
    "w.edges = edges\n",
    "w.directed = True\n",
    "w"
   ]
  }
 ],
 "metadata": {
  "kernelspec": {
   "display_name": "Python 3 (ipykernel)",
   "language": "python",
   "name": "python3"
  },
  "language_info": {
   "codemirror_mode": {
    "name": "ipython",
    "version": 3
   },
   "file_extension": ".py",
   "mimetype": "text/x-python",
   "name": "python",
   "nbconvert_exporter": "python",
   "pygments_lexer": "ipython3",
   "version": "3.12.2"
  }
 },
 "nbformat": 4,
 "nbformat_minor": 5
}
