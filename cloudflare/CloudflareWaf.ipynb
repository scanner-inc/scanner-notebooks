{
 "cells": [
  {
   "cell_type": "markdown",
   "metadata": {},
   "source": [
    "# Analyze Cloudflare WAF logs\n",
    "\n",
    "There are various kinds of useful tasks we can perform to analyze Cloudflare WAF logs.\n",
    "\n",
    "- **Threat Detection**: Analyze logs for patterns that indicate security threats, such as DDoS attacks, SQL injection attempts, and cross-site scripting (XSS) attacks. Cloudflare logs provide data about the threat landscape that your infrastructure is exposed to.\n",
    "- **IP Address Analysis**: Identify suspicious activities by analyzing requests from IP addresses that exhibit unusual behavior, such as a high number of requests or requests that trigger security rules.\n",
    "- **Rate Limiting and Blocking Events**: Assess the effectiveness of security rules and rate limits by analyzing blocked or challenged requests."
   ]
  },
  {
   "cell_type": "markdown",
   "metadata": {},
   "source": [
    "Install dependencies."
   ]
  },
  {
   "cell_type": "code",
   "execution_count": null,
   "metadata": {},
   "outputs": [],
   "source": [
    "%pip install https://scanner-dev-public.s3.us-west-2.amazonaws.com/sdks/python/scanner_client-0.0.1-py3-none-any.whl"
   ]
  },
  {
   "cell_type": "code",
   "execution_count": null,
   "metadata": {},
   "outputs": [],
   "source": [
    "%pip install seaborn matplotlib yfiles_jupyter_graphs"
   ]
  },
  {
   "cell_type": "markdown",
   "metadata": {},
   "source": [
    "Import libraries."
   ]
  },
  {
   "cell_type": "code",
   "execution_count": null,
   "metadata": {},
   "outputs": [],
   "source": [
    "from scanner_client import Scanner\n",
    "import seaborn as sns\n",
    "from matplotlib import pyplot as plt\n",
    "from datetime import datetime, timezone, timedelta\n",
    "import pandas as pd\n",
    "from yfiles_jupyter_graphs import GraphWidget\n",
    "import os\n",
    "\n",
    "pd.set_option('max_colwidth', None)\n",
    "\n",
    "def convert_results_to_data_frame(results):\n",
    "    rows = [row.columns.to_dict() for row in results.rows]\n",
    "    column_tags = results.column_tags.to_dict()\n",
    "    if len(column_tags) > 0:\n",
    "        # If this is a table, use the column ordering in the data frame\n",
    "        return pd.DataFrame(data=rows, columns=results.column_ordering)\n",
    "    else:\n",
    "        # Otherwise, this is a list of log events, so use pandas JSON\n",
    "        # normalization to set the table columns to the union of all keys.\n",
    "        return pd.json_normalize(rows)"
   ]
  },
  {
   "cell_type": "markdown",
   "metadata": {},
   "source": [
    "Initialize Scanner API client:"
   ]
  },
  {
   "cell_type": "code",
   "execution_count": null,
   "metadata": {},
   "outputs": [],
   "source": [
    "scanner = Scanner(\n",
    "    api_url=os.environ[\"SCANNER_API_URL\"],\n",
    "    api_key=os.environ[\"SCANNER_API_KEY\"],\n",
    ")"
   ]
  },
  {
   "cell_type": "markdown",
   "metadata": {},
   "source": [
    "Set analyzed time range to be the last 7 days."
   ]
  },
  {
   "cell_type": "code",
   "execution_count": null,
   "metadata": {},
   "outputs": [],
   "source": [
    "end_time = datetime.now(tz=timezone.utc)\n",
    "start_time = end_time - timedelta(days=7)"
   ]
  },
  {
   "cell_type": "markdown",
   "metadata": {},
   "source": [
    "Run a Scanner query to look for possible SQL injection attacks that were blocked by Cloudflare.\n",
    "\n",
    "We start by looking for the presence of various kinds of SQL syntax in request query parameters."
   ]
  },
  {
   "cell_type": "code",
   "execution_count": null,
   "metadata": {},
   "outputs": [],
   "source": [
    "response = scanner.query.blocking_query(\n",
    "    start_time=start_time.isoformat(),\n",
    "    end_time=end_time.isoformat(),\n",
    "    query_text=\"\"\"\n",
    "        %ingest.source_type: 'cloudflare:firewall'\n",
    "        ClientRequestQuery: (\n",
    "          'union*select' or\n",
    "          'select*from' or\n",
    "          'drop*table' or\n",
    "          'insert*into' or\n",
    "          'update*set' or\n",
    "          'varchar'\n",
    "        )\n",
    "        Action: skip\n",
    "        | stats \n",
    "          min(timestamp) as firstTime,\n",
    "          max(timestamp) as lastTime,\n",
    "          countdistinct(ClientRequestUserAgent) as numDistinctUserAgentsUsed,\n",
    "          countdistinct(ClientRequestQuery) as numDistinctRequestQueriesUsed,\n",
    "          ClientRequestUserAgent as randomUserAgent,\n",
    "          ClientRequestQuery as randomRequestQuery\n",
    "          by ClientIP\n",
    "    \"\"\",\n",
    ")"
   ]
  },
  {
   "cell_type": "markdown",
   "metadata": {},
   "source": [
    "Number of rows in response:"
   ]
  },
  {
   "cell_type": "code",
   "execution_count": null,
   "metadata": {},
   "outputs": [],
   "source": [
    "len(response.results.rows)"
   ]
  },
  {
   "cell_type": "markdown",
   "metadata": {},
   "source": [
    "Transform Scanner search results into a `pandas` data frame, and show the first few rows:"
   ]
  },
  {
   "cell_type": "code",
   "execution_count": null,
   "metadata": {},
   "outputs": [],
   "source": [
    "possible_sql_attack_df = convert_results_to_data_frame(response.results)\n",
    "possible_sql_attack_df.head()"
   ]
  },
  {
   "cell_type": "markdown",
   "metadata": {},
   "source": [
    "Show a sample of request queries to validate whether these indeed look like SQL injection attacks.\n",
    "\n",
    "Note that these have all been stopped by Cloudflare because we selected for events with `Action: skip`, but they are spooky nonetheless."
   ]
  },
  {
   "cell_type": "code",
   "execution_count": null,
   "metadata": {},
   "outputs": [],
   "source": [
    "possible_sql_attack_df[['randomRequestQuery']].head()"
   ]
  },
  {
   "cell_type": "markdown",
   "metadata": {},
   "source": [
    "Get the most prolific IP addresses performing these SQL injection requests."
   ]
  },
  {
   "cell_type": "code",
   "execution_count": null,
   "metadata": {},
   "outputs": [],
   "source": [
    "prolific_ips_df = possible_sql_attack_df.groupby(\"ClientIP\")[\"@q.count\"]\\\n",
    "    .sum()\\\n",
    "    .sort_values(ascending=False)\\\n",
    "    .reset_index()\n",
    "\n",
    "prolific_ips_df.head()"
   ]
  },
  {
   "cell_type": "markdown",
   "metadata": {},
   "source": [
    "Render a chart of the most prolific IP addresses performing SQL injection requests."
   ]
  },
  {
   "cell_type": "code",
   "execution_count": null,
   "metadata": {},
   "outputs": [],
   "source": [
    "plt.figure(figsize=(12, 8))\n",
    "sns.barplot(data=prolific_ips_df[:10], y='ClientIP', x='@q.count')\n",
    "plt.title('Top 10 Most Prolific Client IPs Performing SQL Injection Requests')\n",
    "plt.xlabel('Frequency')\n",
    "plt.ylabel('Client IP Addresses')\n",
    "plt.show()"
   ]
  },
  {
   "cell_type": "markdown",
   "metadata": {},
   "source": [
    "Take the top 3 most prolific ip addresses and query for their activity to find more results."
   ]
  },
  {
   "cell_type": "code",
   "execution_count": null,
   "metadata": {},
   "outputs": [],
   "source": [
    "top_prolific_client_ips = list(prolific_ips_df['ClientIP'])[0:3]\n",
    "top_prolific_client_ips"
   ]
  },
  {
   "cell_type": "code",
   "execution_count": null,
   "metadata": {},
   "outputs": [],
   "source": [
    "response = scanner.query.blocking_query(\n",
    "    start_time=start_time.isoformat(),\n",
    "    end_time=end_time.isoformat(),\n",
    "    query_text=f\"\"\"\n",
    "        %ingest.source_type: 'cloudflare:firewall'\n",
    "        ClientIP: ({' or '.join(top_prolific_client_ips)})\n",
    "        | stats\n",
    "          min(timestamp) as firstTime,\n",
    "          max(timestamp) as lastTime\n",
    "          by \n",
    "          ClientIP,\n",
    "          ClientRequestHost,\n",
    "          Action\n",
    "    \"\"\",\n",
    ")"
   ]
  },
  {
   "cell_type": "markdown",
   "metadata": {},
   "source": [
    "Number of rows in response:"
   ]
  },
  {
   "cell_type": "code",
   "execution_count": null,
   "metadata": {},
   "outputs": [],
   "source": [
    "len(response.results.rows)"
   ]
  },
  {
   "cell_type": "markdown",
   "metadata": {},
   "source": [
    "Convert results to a data frame:"
   ]
  },
  {
   "cell_type": "code",
   "execution_count": null,
   "metadata": {},
   "outputs": [],
   "source": [
    "activity_df = convert_results_to_data_frame(response.results)\n",
    "activity_df.head()"
   ]
  },
  {
   "cell_type": "code",
   "execution_count": null,
   "metadata": {},
   "outputs": [],
   "source": [
    "activity_df['ActivityLabel'] = activity_df['ClientIP'] + ' - ' +\\\n",
    "    activity_df['ClientRequestHost'] + ' - ' +\\\n",
    "    activity_df['Action']\n",
    "\n",
    "activity_df.head()"
   ]
  },
  {
   "cell_type": "markdown",
   "metadata": {},
   "source": [
    "Make a chart of top activity that was skipped by Cloudflare."
   ]
  },
  {
   "cell_type": "code",
   "execution_count": null,
   "metadata": {},
   "outputs": [],
   "source": [
    "skipped_activity_df = activity_df[activity_df[\"Action\"] == 'skip']"
   ]
  },
  {
   "cell_type": "code",
   "execution_count": null,
   "metadata": {},
   "outputs": [],
   "source": [
    "plt.figure(figsize=(12, 8))\n",
    "sns.barplot(data=skipped_activity_df[:10], y='ActivityLabel', x='@q.count', color=\"lightcoral\")\n",
    "plt.title('Prolific IPs - Activity Skipped by Cloudflare')\n",
    "plt.xlabel('Frequency')\n",
    "plt.ylabel('Activity')\n",
    "plt.show()"
   ]
  },
  {
   "cell_type": "markdown",
   "metadata": {},
   "source": [
    "Make a chart of top activity that was *not* skipped by Cloudflare."
   ]
  },
  {
   "cell_type": "code",
   "execution_count": null,
   "metadata": {},
   "outputs": [],
   "source": [
    "non_skipped_activity_df = activity_df[activity_df[\"Action\"] != 'skip']"
   ]
  },
  {
   "cell_type": "code",
   "execution_count": null,
   "metadata": {},
   "outputs": [],
   "source": [
    "plt.figure(figsize=(12, 8))\n",
    "sns.barplot(data=non_skipped_activity_df[:10], y='ActivityLabel', x='@q.count')\n",
    "plt.title('Prolific IPs - Activity NOT Skipped by Cloudflare')\n",
    "plt.xlabel('Frequency')\n",
    "plt.ylabel('Activity')\n",
    "plt.show()"
   ]
  },
  {
   "cell_type": "markdown",
   "metadata": {},
   "source": [
    "Visualize the prolific IP addresses and the hosts and URL paths they connect to.\n",
    "\n",
    "First, create graph nodes and edges."
   ]
  },
  {
   "cell_type": "code",
   "execution_count": null,
   "metadata": {},
   "outputs": [],
   "source": [
    "top_activity_df = activity_df[0:100]\n",
    "client_ips = top_prolific_client_ips\n",
    "\n",
    "group_by_client_ip_df = top_activity_df.groupby('ClientIP')[\"@q.count\"]\\\n",
    "    .sum()\\\n",
    "    .sort_values(ascending=False)\\\n",
    "    .reset_index()\n",
    "min_request_count_for_client_ip = group_by_client_ip_df['@q.count'].min()\n",
    "max_request_count_for_client_ip = group_by_client_ip_df['@q.count'].max()\n",
    "\n",
    "\n",
    "client_request_hosts = set(top_activity_df['ClientRequestHost'])\n",
    "group_by_host_df = top_activity_df.groupby('ClientRequestHost')[\"@q.count\"]\\\n",
    "    .sum()\\\n",
    "    .sort_values(ascending=False)\\\n",
    "    .reset_index()\n",
    "min_request_count_for_host = group_by_host_df['@q.count'].min()\n",
    "max_request_count_for_host = group_by_host_df['@q.count'].max()\n",
    "\n",
    "min_request_count_for_node = min(min_request_count_for_client_ip, min_request_count_for_host)\n",
    "max_request_count_for_node = max(max_request_count_for_client_ip, max_request_count_for_host)\n"
   ]
  },
  {
   "cell_type": "code",
   "execution_count": null,
   "metadata": {},
   "outputs": [],
   "source": [
    "MIN_SCALE = 1.0\n",
    "MAX_SCALE = 10.0\n",
    "\n",
    "def get_node_scale_factor(num_requests):\n",
    "    numer = num_requests - min_request_count_for_node\n",
    "    denom = max_request_count_for_node - min_request_count_for_node\n",
    "    if denom == 0:\n",
    "        return 1.0\n",
    "    scale_factor = MIN_SCALE + (numer / denom) * (MAX_SCALE - MIN_SCALE)\n",
    "    return scale_factor\n",
    "\n",
    "nodes = []\n",
    "for client_ip in client_ips:\n",
    "    num_requests = top_activity_df[top_activity_df['ClientIP'] == client_ip][\"@q.count\"].sum()\n",
    "    num_hosts = len(set(top_activity_df[top_activity_df['ClientIP'] == client_ip][\"ClientRequestHost\"]))\n",
    "    node_scale_factor = get_node_scale_factor(num_requests)\n",
    "    nodes.append({\n",
    "        'id': client_ip,\n",
    "        'properties': {\n",
    "            'label': f\"Client IP: {client_ip}\",\n",
    "            'client_ip': client_ip,\n",
    "            'num_requests_sent': num_requests,\n",
    "            'num_hosts_connected_to': num_hosts,\n",
    "            'node_scale_factor': node_scale_factor,\n",
    "        },\n",
    "    })\n",
    "\n",
    "for client_request_host in client_request_hosts:\n",
    "    num_requests = top_activity_df[top_activity_df['ClientRequestHost'] == client_request_host][\"@q.count\"].sum()\n",
    "    node_scale_factor = get_node_scale_factor(num_requests)\n",
    "    nodes.append({\n",
    "        'id': client_request_host,\n",
    "        'properties': {\n",
    "            'label': f\"Host: {client_request_host}\",\n",
    "            'host': client_request_host,\n",
    "            'num_requests_received': num_requests,\n",
    "            'node_scale_factor': node_scale_factor,\n",
    "        },\n",
    "    })\n",
    "\n",
    "activity_rows = top_activity_df.to_dict(orient='records')\n",
    "edges = []\n",
    "for i, activity_row in enumerate(activity_rows):\n",
    "    edge_id = i\n",
    "    client_ip = activity_row.get('ClientIP')\n",
    "    client_request_host = activity_row.get('ClientRequestHost')\n",
    "    action = activity_row.get('Action')\n",
    "    first_time = activity_row.get('firstTime')\n",
    "    last_time = activity_row.get('lastTime')\n",
    "    count = int(activity_row.get('@q.count'))\n",
    "    edges.append({\n",
    "        'id': edge_id,\n",
    "        'start': client_ip,\n",
    "        'end': client_request_host,\n",
    "        'properties': {\n",
    "            'source_client_ip': client_ip,\n",
    "            'target_request_host': client_request_host,\n",
    "            'action': action,\n",
    "            'first_time': first_time,\n",
    "            'last_time': last_time,\n",
    "            'count': count,\n",
    "            'label': f\"{action}: {count}\",\n",
    "        },\n",
    "    })\n",
    "\n",
    "def custom_node_scale_factor_mapping(node):\n",
    "    return node.get('properties', {}).get('node_scale_factor', 1.0)"
   ]
  },
  {
   "cell_type": "markdown",
   "metadata": {},
   "source": [
    "Generate interactive graph visualization of `AssumeRole` chains.\n",
    "\n",
    "- Click and drag to navigate. Use mouse wheel to zoom in/out.\n",
    "- Click on a node or an edge to select it and see what it is connected to.\n",
    "- When a node or edge is selected, inspect its properties in the `Data` tab in the side bar.\n",
    "- Search for a node or edge via the `Search` tab in the side bar.\n",
    "- Change the layout of the graph to examine relationships in different ways."
   ]
  },
  {
   "cell_type": "code",
   "execution_count": null,
   "metadata": {},
   "outputs": [],
   "source": [
    "w = GraphWidget()\n",
    "w.nodes = nodes\n",
    "w.edges = edges\n",
    "w.directed = True\n",
    "w.set_node_scale_factor_mapping(custom_node_scale_factor_mapping)\n",
    "w"
   ]
  }
 ],
 "metadata": {
  "kernelspec": {
   "display_name": "Python 3 (ipykernel)",
   "language": "python",
   "name": "python3"
  },
  "language_info": {
   "codemirror_mode": {
    "name": "ipython",
    "version": 3
   },
   "file_extension": ".py",
   "mimetype": "text/x-python",
   "name": "python",
   "nbconvert_exporter": "python",
   "pygments_lexer": "ipython3",
   "version": "3.12.2"
  }
 },
 "nbformat": 4,
 "nbformat_minor": 4
}
